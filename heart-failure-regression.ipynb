{
 "cells": [
  {
   "cell_type": "code",
   "execution_count": 1,
   "id": "bf0d971a",
   "metadata": {
    "execution": {
     "iopub.execute_input": "2021-09-12T12:33:46.182220Z",
     "iopub.status.busy": "2021-09-12T12:33:46.181136Z",
     "iopub.status.idle": "2021-09-12T12:33:46.185120Z",
     "shell.execute_reply": "2021-09-12T12:33:46.185615Z",
     "shell.execute_reply.started": "2021-09-12T12:11:01.144641Z"
    },
    "papermill": {
     "duration": 0.047847,
     "end_time": "2021-09-12T12:33:46.185942",
     "exception": false,
     "start_time": "2021-09-12T12:33:46.138095",
     "status": "completed"
    },
    "tags": []
   },
   "outputs": [],
   "source": [
    "import numpy as np\n",
    "import pandas as pd"
   ]
  },
  {
   "cell_type": "code",
   "execution_count": 2,
   "id": "2880d668",
   "metadata": {
    "execution": {
     "iopub.execute_input": "2021-09-12T12:33:46.246053Z",
     "iopub.status.busy": "2021-09-12T12:33:46.245361Z",
     "iopub.status.idle": "2021-09-12T12:33:46.287108Z",
     "shell.execute_reply": "2021-09-12T12:33:46.287585Z",
     "shell.execute_reply.started": "2021-09-12T12:12:58.254046Z"
    },
    "papermill": {
     "duration": 0.074598,
     "end_time": "2021-09-12T12:33:46.287792",
     "exception": false,
     "start_time": "2021-09-12T12:33:46.213194",
     "status": "completed"
    },
    "tags": []
   },
   "outputs": [
    {
     "data": {
      "text/html": [
       "<div>\n",
       "<style scoped>\n",
       "    .dataframe tbody tr th:only-of-type {\n",
       "        vertical-align: middle;\n",
       "    }\n",
       "\n",
       "    .dataframe tbody tr th {\n",
       "        vertical-align: top;\n",
       "    }\n",
       "\n",
       "    .dataframe thead th {\n",
       "        text-align: right;\n",
       "    }\n",
       "</style>\n",
       "<table border=\"1\" class=\"dataframe\">\n",
       "  <thead>\n",
       "    <tr style=\"text-align: right;\">\n",
       "      <th></th>\n",
       "      <th>age</th>\n",
       "      <th>anaemia</th>\n",
       "      <th>creatinine_phosphokinase</th>\n",
       "      <th>diabetes</th>\n",
       "      <th>ejection_fraction</th>\n",
       "      <th>high_blood_pressure</th>\n",
       "      <th>platelets</th>\n",
       "      <th>serum_creatinine</th>\n",
       "      <th>serum_sodium</th>\n",
       "      <th>sex</th>\n",
       "      <th>smoking</th>\n",
       "      <th>time</th>\n",
       "      <th>DEATH_EVENT</th>\n",
       "    </tr>\n",
       "  </thead>\n",
       "  <tbody>\n",
       "    <tr>\n",
       "      <th>0</th>\n",
       "      <td>75.0</td>\n",
       "      <td>0</td>\n",
       "      <td>582</td>\n",
       "      <td>0</td>\n",
       "      <td>20</td>\n",
       "      <td>1</td>\n",
       "      <td>265000.00</td>\n",
       "      <td>1.9</td>\n",
       "      <td>130</td>\n",
       "      <td>1</td>\n",
       "      <td>0</td>\n",
       "      <td>4</td>\n",
       "      <td>1</td>\n",
       "    </tr>\n",
       "    <tr>\n",
       "      <th>1</th>\n",
       "      <td>55.0</td>\n",
       "      <td>0</td>\n",
       "      <td>7861</td>\n",
       "      <td>0</td>\n",
       "      <td>38</td>\n",
       "      <td>0</td>\n",
       "      <td>263358.03</td>\n",
       "      <td>1.1</td>\n",
       "      <td>136</td>\n",
       "      <td>1</td>\n",
       "      <td>0</td>\n",
       "      <td>6</td>\n",
       "      <td>1</td>\n",
       "    </tr>\n",
       "    <tr>\n",
       "      <th>2</th>\n",
       "      <td>65.0</td>\n",
       "      <td>0</td>\n",
       "      <td>146</td>\n",
       "      <td>0</td>\n",
       "      <td>20</td>\n",
       "      <td>0</td>\n",
       "      <td>162000.00</td>\n",
       "      <td>1.3</td>\n",
       "      <td>129</td>\n",
       "      <td>1</td>\n",
       "      <td>1</td>\n",
       "      <td>7</td>\n",
       "      <td>1</td>\n",
       "    </tr>\n",
       "    <tr>\n",
       "      <th>3</th>\n",
       "      <td>50.0</td>\n",
       "      <td>1</td>\n",
       "      <td>111</td>\n",
       "      <td>0</td>\n",
       "      <td>20</td>\n",
       "      <td>0</td>\n",
       "      <td>210000.00</td>\n",
       "      <td>1.9</td>\n",
       "      <td>137</td>\n",
       "      <td>1</td>\n",
       "      <td>0</td>\n",
       "      <td>7</td>\n",
       "      <td>1</td>\n",
       "    </tr>\n",
       "    <tr>\n",
       "      <th>4</th>\n",
       "      <td>65.0</td>\n",
       "      <td>1</td>\n",
       "      <td>160</td>\n",
       "      <td>1</td>\n",
       "      <td>20</td>\n",
       "      <td>0</td>\n",
       "      <td>327000.00</td>\n",
       "      <td>2.7</td>\n",
       "      <td>116</td>\n",
       "      <td>0</td>\n",
       "      <td>0</td>\n",
       "      <td>8</td>\n",
       "      <td>1</td>\n",
       "    </tr>\n",
       "  </tbody>\n",
       "</table>\n",
       "</div>"
      ],
      "text/plain": [
       "    age  anaemia  creatinine_phosphokinase  diabetes  ejection_fraction  \\\n",
       "0  75.0        0                       582         0                 20   \n",
       "1  55.0        0                      7861         0                 38   \n",
       "2  65.0        0                       146         0                 20   \n",
       "3  50.0        1                       111         0                 20   \n",
       "4  65.0        1                       160         1                 20   \n",
       "\n",
       "   high_blood_pressure  platelets  serum_creatinine  serum_sodium  sex  \\\n",
       "0                    1  265000.00               1.9           130    1   \n",
       "1                    0  263358.03               1.1           136    1   \n",
       "2                    0  162000.00               1.3           129    1   \n",
       "3                    0  210000.00               1.9           137    1   \n",
       "4                    0  327000.00               2.7           116    0   \n",
       "\n",
       "   smoking  time  DEATH_EVENT  \n",
       "0        0     4            1  \n",
       "1        0     6            1  \n",
       "2        1     7            1  \n",
       "3        0     7            1  \n",
       "4        0     8            1  "
      ]
     },
     "execution_count": 2,
     "metadata": {},
     "output_type": "execute_result"
    }
   ],
   "source": [
    "heart=pd.read_csv(\"../input/heart-failure-clinical-data/heart_failure_clinical_records_dataset.csv\")\n",
    "heart.head()"
   ]
  },
  {
   "cell_type": "code",
   "execution_count": 3,
   "id": "d92c6259",
   "metadata": {
    "execution": {
     "iopub.execute_input": "2021-09-12T12:33:46.343208Z",
     "iopub.status.busy": "2021-09-12T12:33:46.342518Z",
     "iopub.status.idle": "2021-09-12T12:33:46.345050Z",
     "shell.execute_reply": "2021-09-12T12:33:46.345518Z",
     "shell.execute_reply.started": "2021-09-12T12:13:06.790514Z"
    },
    "papermill": {
     "duration": 0.032955,
     "end_time": "2021-09-12T12:33:46.345693",
     "exception": false,
     "start_time": "2021-09-12T12:33:46.312738",
     "status": "completed"
    },
    "tags": []
   },
   "outputs": [
    {
     "data": {
      "text/plain": [
       "(299, 13)"
      ]
     },
     "execution_count": 3,
     "metadata": {},
     "output_type": "execute_result"
    }
   ],
   "source": [
    "heart.shape"
   ]
  },
  {
   "cell_type": "code",
   "execution_count": 4,
   "id": "769f8638",
   "metadata": {
    "execution": {
     "iopub.execute_input": "2021-09-12T12:33:46.402044Z",
     "iopub.status.busy": "2021-09-12T12:33:46.397964Z",
     "iopub.status.idle": "2021-09-12T12:33:46.406156Z",
     "shell.execute_reply": "2021-09-12T12:33:46.405637Z",
     "shell.execute_reply.started": "2021-09-12T12:13:16.312565Z"
    },
    "papermill": {
     "duration": 0.036342,
     "end_time": "2021-09-12T12:33:46.406297",
     "exception": false,
     "start_time": "2021-09-12T12:33:46.369955",
     "status": "completed"
    },
    "tags": []
   },
   "outputs": [
    {
     "data": {
      "text/plain": [
       "age                         float64\n",
       "anaemia                       int64\n",
       "creatinine_phosphokinase      int64\n",
       "diabetes                      int64\n",
       "ejection_fraction             int64\n",
       "high_blood_pressure           int64\n",
       "platelets                   float64\n",
       "serum_creatinine            float64\n",
       "serum_sodium                  int64\n",
       "sex                           int64\n",
       "smoking                       int64\n",
       "time                          int64\n",
       "DEATH_EVENT                   int64\n",
       "dtype: object"
      ]
     },
     "execution_count": 4,
     "metadata": {},
     "output_type": "execute_result"
    }
   ],
   "source": [
    "heart.dtypes"
   ]
  },
  {
   "cell_type": "code",
   "execution_count": 5,
   "id": "5b7790db",
   "metadata": {
    "execution": {
     "iopub.execute_input": "2021-09-12T12:33:46.466812Z",
     "iopub.status.busy": "2021-09-12T12:33:46.466024Z",
     "iopub.status.idle": "2021-09-12T12:33:46.469145Z",
     "shell.execute_reply": "2021-09-12T12:33:46.469611Z",
     "shell.execute_reply.started": "2021-09-12T12:13:35.979569Z"
    },
    "papermill": {
     "duration": 0.038657,
     "end_time": "2021-09-12T12:33:46.469810",
     "exception": false,
     "start_time": "2021-09-12T12:33:46.431153",
     "status": "completed"
    },
    "tags": []
   },
   "outputs": [
    {
     "data": {
      "text/plain": [
       "age                         0\n",
       "anaemia                     0\n",
       "creatinine_phosphokinase    0\n",
       "diabetes                    0\n",
       "ejection_fraction           0\n",
       "high_blood_pressure         0\n",
       "platelets                   0\n",
       "serum_creatinine            0\n",
       "serum_sodium                0\n",
       "sex                         0\n",
       "smoking                     0\n",
       "time                        0\n",
       "DEATH_EVENT                 0\n",
       "dtype: int64"
      ]
     },
     "execution_count": 5,
     "metadata": {},
     "output_type": "execute_result"
    }
   ],
   "source": [
    "heart.isnull().sum()"
   ]
  },
  {
   "cell_type": "code",
   "execution_count": 6,
   "id": "9f671b1b",
   "metadata": {
    "execution": {
     "iopub.execute_input": "2021-09-12T12:33:46.524369Z",
     "iopub.status.busy": "2021-09-12T12:33:46.523415Z",
     "iopub.status.idle": "2021-09-12T12:33:46.540490Z",
     "shell.execute_reply": "2021-09-12T12:33:46.539854Z",
     "shell.execute_reply.started": "2021-09-12T12:14:33.100859Z"
    },
    "papermill": {
     "duration": 0.046065,
     "end_time": "2021-09-12T12:33:46.540634",
     "exception": false,
     "start_time": "2021-09-12T12:33:46.494569",
     "status": "completed"
    },
    "tags": []
   },
   "outputs": [
    {
     "data": {
      "text/plain": [
       "<bound method NDFrame.describe of       age  anaemia  creatinine_phosphokinase  diabetes  ejection_fraction  \\\n",
       "0    75.0        0                       582         0                 20   \n",
       "1    55.0        0                      7861         0                 38   \n",
       "2    65.0        0                       146         0                 20   \n",
       "3    50.0        1                       111         0                 20   \n",
       "4    65.0        1                       160         1                 20   \n",
       "..    ...      ...                       ...       ...                ...   \n",
       "294  62.0        0                        61         1                 38   \n",
       "295  55.0        0                      1820         0                 38   \n",
       "296  45.0        0                      2060         1                 60   \n",
       "297  45.0        0                      2413         0                 38   \n",
       "298  50.0        0                       196         0                 45   \n",
       "\n",
       "     high_blood_pressure  platelets  serum_creatinine  serum_sodium  sex  \\\n",
       "0                      1  265000.00               1.9           130    1   \n",
       "1                      0  263358.03               1.1           136    1   \n",
       "2                      0  162000.00               1.3           129    1   \n",
       "3                      0  210000.00               1.9           137    1   \n",
       "4                      0  327000.00               2.7           116    0   \n",
       "..                   ...        ...               ...           ...  ...   \n",
       "294                    1  155000.00               1.1           143    1   \n",
       "295                    0  270000.00               1.2           139    0   \n",
       "296                    0  742000.00               0.8           138    0   \n",
       "297                    0  140000.00               1.4           140    1   \n",
       "298                    0  395000.00               1.6           136    1   \n",
       "\n",
       "     smoking  time  DEATH_EVENT  \n",
       "0          0     4            1  \n",
       "1          0     6            1  \n",
       "2          1     7            1  \n",
       "3          0     7            1  \n",
       "4          0     8            1  \n",
       "..       ...   ...          ...  \n",
       "294        1   270            0  \n",
       "295        0   271            0  \n",
       "296        0   278            0  \n",
       "297        1   280            0  \n",
       "298        1   285            0  \n",
       "\n",
       "[299 rows x 13 columns]>"
      ]
     },
     "execution_count": 6,
     "metadata": {},
     "output_type": "execute_result"
    }
   ],
   "source": [
    "heart.describe"
   ]
  },
  {
   "cell_type": "code",
   "execution_count": 7,
   "id": "616a30a1",
   "metadata": {
    "execution": {
     "iopub.execute_input": "2021-09-12T12:33:46.615079Z",
     "iopub.status.busy": "2021-09-12T12:33:46.614025Z",
     "iopub.status.idle": "2021-09-12T12:33:46.617927Z",
     "shell.execute_reply": "2021-09-12T12:33:46.618363Z",
     "shell.execute_reply.started": "2021-09-12T12:14:39.431338Z"
    },
    "papermill": {
     "duration": 0.051601,
     "end_time": "2021-09-12T12:33:46.618546",
     "exception": false,
     "start_time": "2021-09-12T12:33:46.566945",
     "status": "completed"
    },
    "tags": []
   },
   "outputs": [
    {
     "data": {
      "text/plain": [
       "<bound method DataFrame.info of       age  anaemia  creatinine_phosphokinase  diabetes  ejection_fraction  \\\n",
       "0    75.0        0                       582         0                 20   \n",
       "1    55.0        0                      7861         0                 38   \n",
       "2    65.0        0                       146         0                 20   \n",
       "3    50.0        1                       111         0                 20   \n",
       "4    65.0        1                       160         1                 20   \n",
       "..    ...      ...                       ...       ...                ...   \n",
       "294  62.0        0                        61         1                 38   \n",
       "295  55.0        0                      1820         0                 38   \n",
       "296  45.0        0                      2060         1                 60   \n",
       "297  45.0        0                      2413         0                 38   \n",
       "298  50.0        0                       196         0                 45   \n",
       "\n",
       "     high_blood_pressure  platelets  serum_creatinine  serum_sodium  sex  \\\n",
       "0                      1  265000.00               1.9           130    1   \n",
       "1                      0  263358.03               1.1           136    1   \n",
       "2                      0  162000.00               1.3           129    1   \n",
       "3                      0  210000.00               1.9           137    1   \n",
       "4                      0  327000.00               2.7           116    0   \n",
       "..                   ...        ...               ...           ...  ...   \n",
       "294                    1  155000.00               1.1           143    1   \n",
       "295                    0  270000.00               1.2           139    0   \n",
       "296                    0  742000.00               0.8           138    0   \n",
       "297                    0  140000.00               1.4           140    1   \n",
       "298                    0  395000.00               1.6           136    1   \n",
       "\n",
       "     smoking  time  DEATH_EVENT  \n",
       "0          0     4            1  \n",
       "1          0     6            1  \n",
       "2          1     7            1  \n",
       "3          0     7            1  \n",
       "4          0     8            1  \n",
       "..       ...   ...          ...  \n",
       "294        1   270            0  \n",
       "295        0   271            0  \n",
       "296        0   278            0  \n",
       "297        1   280            0  \n",
       "298        1   285            0  \n",
       "\n",
       "[299 rows x 13 columns]>"
      ]
     },
     "execution_count": 7,
     "metadata": {},
     "output_type": "execute_result"
    }
   ],
   "source": [
    "heart.info"
   ]
  },
  {
   "cell_type": "code",
   "execution_count": 8,
   "id": "96a733b3",
   "metadata": {
    "execution": {
     "iopub.execute_input": "2021-09-12T12:33:46.684551Z",
     "iopub.status.busy": "2021-09-12T12:33:46.683880Z",
     "iopub.status.idle": "2021-09-12T12:33:46.688564Z",
     "shell.execute_reply": "2021-09-12T12:33:46.689227Z",
     "shell.execute_reply.started": "2021-09-12T12:18:22.003550Z"
    },
    "papermill": {
     "duration": 0.038906,
     "end_time": "2021-09-12T12:33:46.689412",
     "exception": false,
     "start_time": "2021-09-12T12:33:46.650506",
     "status": "completed"
    },
    "tags": []
   },
   "outputs": [],
   "source": [
    "x = heart.drop('DEATH_EVENT', axis=1)\n",
    "y = heart['DEATH_EVENT']"
   ]
  },
  {
   "cell_type": "code",
   "execution_count": 9,
   "id": "72790b68",
   "metadata": {
    "execution": {
     "iopub.execute_input": "2021-09-12T12:33:46.749729Z",
     "iopub.status.busy": "2021-09-12T12:33:46.748034Z",
     "iopub.status.idle": "2021-09-12T12:33:47.824033Z",
     "shell.execute_reply": "2021-09-12T12:33:47.824514Z",
     "shell.execute_reply.started": "2021-09-12T12:19:35.762696Z"
    },
    "papermill": {
     "duration": 1.106103,
     "end_time": "2021-09-12T12:33:47.824727",
     "exception": false,
     "start_time": "2021-09-12T12:33:46.718624",
     "status": "completed"
    },
    "tags": []
   },
   "outputs": [],
   "source": [
    "from sklearn.impute import SimpleImputer"
   ]
  },
  {
   "cell_type": "code",
   "execution_count": 10,
   "id": "79f52865",
   "metadata": {
    "execution": {
     "iopub.execute_input": "2021-09-12T12:33:47.881275Z",
     "iopub.status.busy": "2021-09-12T12:33:47.880568Z",
     "iopub.status.idle": "2021-09-12T12:33:47.896769Z",
     "shell.execute_reply": "2021-09-12T12:33:47.895999Z",
     "shell.execute_reply.started": "2021-09-12T12:20:29.550391Z"
    },
    "papermill": {
     "duration": 0.045658,
     "end_time": "2021-09-12T12:33:47.896959",
     "exception": false,
     "start_time": "2021-09-12T12:33:47.851301",
     "status": "completed"
    },
    "tags": []
   },
   "outputs": [
    {
     "name": "stdout",
     "output_type": "stream",
     "text": [
      "X Data is \n",
      " [[7.5000000e+01 0.0000000e+00 5.8200000e+02 0.0000000e+00 2.0000000e+01\n",
      "  1.0000000e+00 2.6500000e+05 1.9000000e+00 1.3000000e+02 1.0000000e+00\n",
      "  0.0000000e+00 4.0000000e+00]\n",
      " [5.5000000e+01 0.0000000e+00 7.8610000e+03 0.0000000e+00 3.8000000e+01\n",
      "  0.0000000e+00 2.6335803e+05 1.1000000e+00 1.3600000e+02 1.0000000e+00\n",
      "  0.0000000e+00 6.0000000e+00]\n",
      " [6.5000000e+01 0.0000000e+00 1.4600000e+02 0.0000000e+00 2.0000000e+01\n",
      "  0.0000000e+00 1.6200000e+05 1.3000000e+00 1.2900000e+02 1.0000000e+00\n",
      "  1.0000000e+00 7.0000000e+00]\n",
      " [5.0000000e+01 1.0000000e+00 1.1100000e+02 0.0000000e+00 2.0000000e+01\n",
      "  0.0000000e+00 2.1000000e+05 1.9000000e+00 1.3700000e+02 1.0000000e+00\n",
      "  0.0000000e+00 7.0000000e+00]\n",
      " [6.5000000e+01 1.0000000e+00 1.6000000e+02 1.0000000e+00 2.0000000e+01\n",
      "  0.0000000e+00 3.2700000e+05 2.7000000e+00 1.1600000e+02 0.0000000e+00\n",
      "  0.0000000e+00 8.0000000e+00]\n",
      " [9.0000000e+01 1.0000000e+00 4.7000000e+01 0.0000000e+00 4.0000000e+01\n",
      "  1.0000000e+00 2.0400000e+05 2.1000000e+00 1.3200000e+02 1.0000000e+00\n",
      "  1.0000000e+00 8.0000000e+00]\n",
      " [7.5000000e+01 1.0000000e+00 2.4600000e+02 0.0000000e+00 1.5000000e+01\n",
      "  0.0000000e+00 1.2700000e+05 1.2000000e+00 1.3700000e+02 1.0000000e+00\n",
      "  0.0000000e+00 1.0000000e+01]\n",
      " [6.0000000e+01 1.0000000e+00 3.1500000e+02 1.0000000e+00 6.0000000e+01\n",
      "  0.0000000e+00 4.5400000e+05 1.1000000e+00 1.3100000e+02 1.0000000e+00\n",
      "  1.0000000e+00 1.0000000e+01]\n",
      " [6.5000000e+01 0.0000000e+00 1.5700000e+02 0.0000000e+00 6.5000000e+01\n",
      "  0.0000000e+00 2.6335803e+05 1.5000000e+00 1.3800000e+02 0.0000000e+00\n",
      "  0.0000000e+00 1.0000000e+01]\n",
      " [8.0000000e+01 1.0000000e+00 1.2300000e+02 0.0000000e+00 3.5000000e+01\n",
      "  1.0000000e+00 3.8800000e+05 9.4000000e+00 1.3300000e+02 1.0000000e+00\n",
      "  1.0000000e+00 1.0000000e+01]]\n",
      "y Data is \n",
      " 0    1\n",
      "1    1\n",
      "2    1\n",
      "3    1\n",
      "4    1\n",
      "5    1\n",
      "6    1\n",
      "7    1\n",
      "8    1\n",
      "9    1\n",
      "Name: DEATH_EVENT, dtype: int64\n"
     ]
    }
   ],
   "source": [
    "ImputedModule = SimpleImputer(missing_values = np.nan, strategy ='mean')\n",
    "ImputedX = ImputedModule.fit(x)\n",
    "x = ImputedX.transform(x)\n",
    "\n",
    "print('X Data is \\n' ,x[:10])\n",
    "\n",
    "print('y Data is \\n' , y[:10])"
   ]
  },
  {
   "cell_type": "code",
   "execution_count": 11,
   "id": "0e3e9ae6",
   "metadata": {
    "execution": {
     "iopub.execute_input": "2021-09-12T12:33:47.953621Z",
     "iopub.status.busy": "2021-09-12T12:33:47.952994Z",
     "iopub.status.idle": "2021-09-12T12:33:47.956419Z",
     "shell.execute_reply": "2021-09-12T12:33:47.956888Z",
     "shell.execute_reply.started": "2021-09-12T12:20:37.160686Z"
    },
    "papermill": {
     "duration": 0.033034,
     "end_time": "2021-09-12T12:33:47.957060",
     "exception": false,
     "start_time": "2021-09-12T12:33:47.924026",
     "status": "completed"
    },
    "tags": []
   },
   "outputs": [],
   "source": [
    "\n",
    "\n",
    "from sklearn.preprocessing import MinMaxScaler\n"
   ]
  },
  {
   "cell_type": "code",
   "execution_count": 12,
   "id": "99d6a2bd",
   "metadata": {
    "execution": {
     "iopub.execute_input": "2021-09-12T12:33:48.017240Z",
     "iopub.status.busy": "2021-09-12T12:33:48.016530Z",
     "iopub.status.idle": "2021-09-12T12:33:48.023488Z",
     "shell.execute_reply": "2021-09-12T12:33:48.022963Z",
     "shell.execute_reply.started": "2021-09-12T12:20:39.847468Z"
    },
    "papermill": {
     "duration": 0.038974,
     "end_time": "2021-09-12T12:33:48.023624",
     "exception": false,
     "start_time": "2021-09-12T12:33:47.984650",
     "status": "completed"
    },
    "tags": []
   },
   "outputs": [
    {
     "name": "stdout",
     "output_type": "stream",
     "text": [
      "X \n",
      " [[0.63636364 0.         0.07131921 0.         0.09090909 1.\n",
      "  0.29082313 0.15730337 0.48571429 1.         0.         0.        ]\n",
      " [0.27272727 0.         1.         0.         0.36363636 0.\n",
      "  0.28883262 0.06741573 0.65714286 1.         0.         0.00711744]\n",
      " [0.45454545 0.         0.01569278 0.         0.09090909 0.\n",
      "  0.16595951 0.08988764 0.45714286 1.         1.         0.01067616]\n",
      " [0.18181818 1.         0.01122735 0.         0.09090909 0.\n",
      "  0.22414838 0.15730337 0.68571429 1.         0.         0.01067616]\n",
      " [0.45454545 1.         0.01747895 1.         0.09090909 0.\n",
      "  0.36598376 0.24719101 0.08571429 0.         0.         0.01423488]\n",
      " [0.90909091 1.         0.00306201 0.         0.39393939 1.\n",
      "  0.21687477 0.17977528 0.54285714 1.         1.         0.01423488]\n",
      " [0.63636364 1.         0.02845114 0.         0.01515152 0.\n",
      "  0.12353012 0.07865169 0.68571429 1.         0.         0.02135231]\n",
      " [0.36363636 1.         0.0372544  1.         0.6969697  0.\n",
      "  0.51994181 0.06741573 0.51428571 1.         1.         0.02135231]\n",
      " [0.45454545 0.         0.0170962  0.         0.77272727 0.\n",
      "  0.28883262 0.11235955 0.71428571 0.         0.         0.02135231]\n",
      " [0.72727273 1.         0.01275836 0.         0.31818182 1.\n",
      "  0.43993211 1.         0.57142857 1.         1.         0.02135231]]\n",
      "y \n",
      " 0    1\n",
      "1    1\n",
      "2    1\n",
      "3    1\n",
      "4    1\n",
      "5    1\n",
      "6    1\n",
      "7    1\n",
      "8    1\n",
      "9    1\n",
      "Name: DEATH_EVENT, dtype: int64\n"
     ]
    }
   ],
   "source": [
    "scaler = MinMaxScaler(copy=True, feature_range=(0, 1))\n",
    "x = scaler.fit_transform(x)\n",
    "\n",
    "#showing data\n",
    "print('X \\n' , x[:10])\n",
    "print('y \\n' , y[:10])"
   ]
  },
  {
   "cell_type": "code",
   "execution_count": 13,
   "id": "034376dc",
   "metadata": {
    "execution": {
     "iopub.execute_input": "2021-09-12T12:33:48.082344Z",
     "iopub.status.busy": "2021-09-12T12:33:48.081679Z",
     "iopub.status.idle": "2021-09-12T12:33:48.084949Z",
     "shell.execute_reply": "2021-09-12T12:33:48.084357Z",
     "shell.execute_reply.started": "2021-09-12T12:21:50.101516Z"
    },
    "papermill": {
     "duration": 0.034602,
     "end_time": "2021-09-12T12:33:48.085104",
     "exception": false,
     "start_time": "2021-09-12T12:33:48.050502",
     "status": "completed"
    },
    "tags": []
   },
   "outputs": [],
   "source": [
    "from sklearn.model_selection import train_test_split"
   ]
  },
  {
   "cell_type": "code",
   "execution_count": 14,
   "id": "2f057771",
   "metadata": {
    "execution": {
     "iopub.execute_input": "2021-09-12T12:33:48.143758Z",
     "iopub.status.busy": "2021-09-12T12:33:48.143069Z",
     "iopub.status.idle": "2021-09-12T12:33:48.150132Z",
     "shell.execute_reply": "2021-09-12T12:33:48.150591Z",
     "shell.execute_reply.started": "2021-09-12T12:23:01.760219Z"
    },
    "papermill": {
     "duration": 0.037689,
     "end_time": "2021-09-12T12:33:48.150829",
     "exception": false,
     "start_time": "2021-09-12T12:33:48.113140",
     "status": "completed"
    },
    "tags": []
   },
   "outputs": [],
   "source": [
    "x_train,x_test,y_train,y_test=train_test_split(x,y,test_size=30,random_state=0)"
   ]
  },
  {
   "cell_type": "code",
   "execution_count": 15,
   "id": "d722a159",
   "metadata": {
    "execution": {
     "iopub.execute_input": "2021-09-12T12:33:48.223147Z",
     "iopub.status.busy": "2021-09-12T12:33:48.221824Z",
     "iopub.status.idle": "2021-09-12T12:33:48.225815Z",
     "shell.execute_reply": "2021-09-12T12:33:48.226589Z",
     "shell.execute_reply.started": "2021-09-12T12:23:37.210014Z"
    },
    "papermill": {
     "duration": 0.042688,
     "end_time": "2021-09-12T12:33:48.226844",
     "exception": false,
     "start_time": "2021-09-12T12:33:48.184156",
     "status": "completed"
    },
    "tags": []
   },
   "outputs": [
    {
     "name": "stdout",
     "output_type": "stream",
     "text": [
      "x_train shape is: (269, 12)\n"
     ]
    }
   ],
   "source": [
    "print(\"x_train shape is:\",x_train.shape)"
   ]
  },
  {
   "cell_type": "code",
   "execution_count": 16,
   "id": "91f8b251",
   "metadata": {
    "execution": {
     "iopub.execute_input": "2021-09-12T12:33:48.289141Z",
     "iopub.status.busy": "2021-09-12T12:33:48.288526Z",
     "iopub.status.idle": "2021-09-12T12:33:48.294502Z",
     "shell.execute_reply": "2021-09-12T12:33:48.293644Z",
     "shell.execute_reply.started": "2021-09-12T12:23:55.230454Z"
    },
    "papermill": {
     "duration": 0.03891,
     "end_time": "2021-09-12T12:33:48.294705",
     "exception": false,
     "start_time": "2021-09-12T12:33:48.255795",
     "status": "completed"
    },
    "tags": []
   },
   "outputs": [
    {
     "name": "stdout",
     "output_type": "stream",
     "text": [
      "y_train shape is: (269,)\n"
     ]
    }
   ],
   "source": [
    "print(\"y_train shape is:\",y_train.shape)"
   ]
  },
  {
   "cell_type": "code",
   "execution_count": 17,
   "id": "03041fe8",
   "metadata": {
    "execution": {
     "iopub.execute_input": "2021-09-12T12:33:48.356956Z",
     "iopub.status.busy": "2021-09-12T12:33:48.356236Z",
     "iopub.status.idle": "2021-09-12T12:33:48.359355Z",
     "shell.execute_reply": "2021-09-12T12:33:48.359813Z",
     "shell.execute_reply.started": "2021-09-12T12:24:16.975181Z"
    },
    "papermill": {
     "duration": 0.036129,
     "end_time": "2021-09-12T12:33:48.359981",
     "exception": false,
     "start_time": "2021-09-12T12:33:48.323852",
     "status": "completed"
    },
    "tags": []
   },
   "outputs": [
    {
     "name": "stdout",
     "output_type": "stream",
     "text": [
      "x_test shape is: (30, 12)\n"
     ]
    }
   ],
   "source": [
    "print(\"x_test shape is:\",x_test.shape)"
   ]
  },
  {
   "cell_type": "code",
   "execution_count": 18,
   "id": "aca561ad",
   "metadata": {
    "execution": {
     "iopub.execute_input": "2021-09-12T12:33:48.420476Z",
     "iopub.status.busy": "2021-09-12T12:33:48.419822Z",
     "iopub.status.idle": "2021-09-12T12:33:48.422789Z",
     "shell.execute_reply": "2021-09-12T12:33:48.423357Z",
     "shell.execute_reply.started": "2021-09-12T12:24:30.893898Z"
    },
    "papermill": {
     "duration": 0.035974,
     "end_time": "2021-09-12T12:33:48.423530",
     "exception": false,
     "start_time": "2021-09-12T12:33:48.387556",
     "status": "completed"
    },
    "tags": []
   },
   "outputs": [
    {
     "name": "stdout",
     "output_type": "stream",
     "text": [
      "y_test shape is: (30,)\n"
     ]
    }
   ],
   "source": [
    "print(\"y_test shape is:\",y_test.shape)"
   ]
  },
  {
   "cell_type": "code",
   "execution_count": 19,
   "id": "2dbf743e",
   "metadata": {
    "execution": {
     "iopub.execute_input": "2021-09-12T12:33:48.484110Z",
     "iopub.status.busy": "2021-09-12T12:33:48.482422Z",
     "iopub.status.idle": "2021-09-12T12:33:48.535603Z",
     "shell.execute_reply": "2021-09-12T12:33:48.536178Z",
     "shell.execute_reply.started": "2021-09-12T12:25:58.563980Z"
    },
    "papermill": {
     "duration": 0.085049,
     "end_time": "2021-09-12T12:33:48.536354",
     "exception": false,
     "start_time": "2021-09-12T12:33:48.451305",
     "status": "completed"
    },
    "tags": []
   },
   "outputs": [],
   "source": [
    "from sklearn.ensemble import RandomForestRegressor"
   ]
  },
  {
   "cell_type": "code",
   "execution_count": 20,
   "id": "58eb4261",
   "metadata": {
    "execution": {
     "iopub.execute_input": "2021-09-12T12:33:48.621293Z",
     "iopub.status.busy": "2021-09-12T12:33:48.600088Z",
     "iopub.status.idle": "2021-09-12T12:33:48.852178Z",
     "shell.execute_reply": "2021-09-12T12:33:48.852632Z",
     "shell.execute_reply.started": "2021-09-12T12:27:59.093989Z"
    },
    "papermill": {
     "duration": 0.28765,
     "end_time": "2021-09-12T12:33:48.852838",
     "exception": false,
     "start_time": "2021-09-12T12:33:48.565188",
     "status": "completed"
    },
    "tags": []
   },
   "outputs": [
    {
     "name": "stdout",
     "output_type": "stream",
     "text": [
      "Random Forest Regressor Train Score is :  0.9142906381958462\n",
      "Random Forest Regressor Test Score is :  0.48874939101468484\n",
      "Random Forest Regressor No. of features are :  12\n",
      "----------------------------------------------------\n",
      "Predicted Value for Random Forest Regressor is :  [1.37931034e-04 2.01379310e-02 8.00000000e-01 1.63793103e-03\n",
      " 1.01879002e-01 1.09031199e-03 2.45000000e-01 1.63793103e-03\n",
      " 6.10000000e-01 1.37931034e-04]\n"
     ]
    }
   ],
   "source": [
    "RandomForestRegressorModel = RandomForestRegressor(n_estimators=100,max_depth=9, random_state=33)\n",
    "RandomForestRegressorModel.fit(x_train, y_train)\n",
    "\n",
    "print('Random Forest Regressor Train Score is : ' , RandomForestRegressorModel.score(x_train, y_train))\n",
    "print('Random Forest Regressor Test Score is : ' , RandomForestRegressorModel.score(x_test, y_test))\n",
    "print('Random Forest Regressor No. of features are : ' , RandomForestRegressorModel.n_features_)\n",
    "print('----------------------------------------------------')\n",
    "\n",
    "y_pred = RandomForestRegressorModel.predict(x_test)\n",
    "print('Predicted Value for Random Forest Regressor is : ' , y_pred[:10])"
   ]
  },
  {
   "cell_type": "code",
   "execution_count": 21,
   "id": "96e13904",
   "metadata": {
    "execution": {
     "iopub.execute_input": "2021-09-12T12:33:48.915842Z",
     "iopub.status.busy": "2021-09-12T12:33:48.914792Z",
     "iopub.status.idle": "2021-09-12T12:33:48.916978Z",
     "shell.execute_reply": "2021-09-12T12:33:48.917416Z",
     "shell.execute_reply.started": "2021-09-12T12:28:43.135575Z"
    },
    "papermill": {
     "duration": 0.036002,
     "end_time": "2021-09-12T12:33:48.917589",
     "exception": false,
     "start_time": "2021-09-12T12:33:48.881587",
     "status": "completed"
    },
    "tags": []
   },
   "outputs": [],
   "source": [
    "from sklearn.tree import DecisionTreeRegressor"
   ]
  },
  {
   "cell_type": "code",
   "execution_count": 22,
   "id": "4fcfc6f1",
   "metadata": {
    "execution": {
     "iopub.execute_input": "2021-09-12T12:33:48.982103Z",
     "iopub.status.busy": "2021-09-12T12:33:48.981431Z",
     "iopub.status.idle": "2021-09-12T12:33:48.989882Z",
     "shell.execute_reply": "2021-09-12T12:33:48.990816Z",
     "shell.execute_reply.started": "2021-09-12T12:30:27.577955Z"
    },
    "papermill": {
     "duration": 0.04457,
     "end_time": "2021-09-12T12:33:48.991143",
     "exception": false,
     "start_time": "2021-09-12T12:33:48.946573",
     "status": "completed"
    },
    "tags": []
   },
   "outputs": [
    {
     "name": "stdout",
     "output_type": "stream",
     "text": [
      "DecisionTreeRegressor Train Score is :  0.7597900606084769\n",
      "DecisionTreeRegressor Test Score is :  0.4647026921953096\n",
      "----------------------------------------------------\n",
      "Predicted Value for DecisionTreeRegressorModel is :  [0.016      0.016      0.95555556 0.016      0.17647059 0.016\n",
      " 0.         0.016      0.66666667 0.016     ]\n"
     ]
    }
   ],
   "source": [
    "DecisionTreeRegressorModel = DecisionTreeRegressor( max_depth=5,random_state=33)\n",
    "DecisionTreeRegressorModel.fit(x_train, y_train)\n",
    "\n",
    "print('DecisionTreeRegressor Train Score is : ' , DecisionTreeRegressorModel.score(x_train, y_train))\n",
    "print('DecisionTreeRegressor Test Score is : ' , DecisionTreeRegressorModel.score(x_test, y_test))\n",
    "print('----------------------------------------------------')\n",
    "y_pred = DecisionTreeRegressorModel.predict(x_test)\n",
    "print('Predicted Value for DecisionTreeRegressorModel is : ' , y_pred[:10])"
   ]
  },
  {
   "cell_type": "code",
   "execution_count": 23,
   "id": "9727b79d",
   "metadata": {
    "execution": {
     "iopub.execute_input": "2021-09-12T12:33:49.054476Z",
     "iopub.status.busy": "2021-09-12T12:33:49.053773Z",
     "iopub.status.idle": "2021-09-12T12:33:49.056692Z",
     "shell.execute_reply": "2021-09-12T12:33:49.056173Z",
     "shell.execute_reply.started": "2021-09-12T12:31:02.590477Z"
    },
    "papermill": {
     "duration": 0.036013,
     "end_time": "2021-09-12T12:33:49.056830",
     "exception": false,
     "start_time": "2021-09-12T12:33:49.020817",
     "status": "completed"
    },
    "tags": []
   },
   "outputs": [],
   "source": [
    "from sklearn.svm import SVR\n"
   ]
  },
  {
   "cell_type": "code",
   "execution_count": 24,
   "id": "a92df25b",
   "metadata": {
    "execution": {
     "iopub.execute_input": "2021-09-12T12:33:49.118494Z",
     "iopub.status.busy": "2021-09-12T12:33:49.117747Z",
     "iopub.status.idle": "2021-09-12T12:33:49.136944Z",
     "shell.execute_reply": "2021-09-12T12:33:49.137456Z",
     "shell.execute_reply.started": "2021-09-12T12:31:21.938050Z"
    },
    "papermill": {
     "duration": 0.052043,
     "end_time": "2021-09-12T12:33:49.137627",
     "exception": false,
     "start_time": "2021-09-12T12:33:49.085584",
     "status": "completed"
    },
    "tags": []
   },
   "outputs": [
    {
     "name": "stdout",
     "output_type": "stream",
     "text": [
      "SVRModel Train Score is :  0.5741071992429021\n",
      "SVRModel Test Score is :  0.22979566296407827\n",
      "----------------------------------------------------\n",
      "Predicted Value for SVRModel is :  [-0.06830022  0.11333969  0.70950095 -0.06202241  0.06561108  0.26064299\n",
      "  0.56194169  0.02489123  0.8839809   0.2121469 ]\n"
     ]
    }
   ],
   "source": [
    "SVRModel = SVR(C = 1.0 ,epsilon=0.1,kernel = 'rbf') # it also can be : linear, poly, rbf, sigmoid, precomputed\n",
    "SVRModel.fit(x_train, y_train)\n",
    "\n",
    "print('SVRModel Train Score is : ' , SVRModel.score(x_train, y_train))\n",
    "print('SVRModel Test Score is : ' , SVRModel.score(x_test, y_test))\n",
    "print('----------------------------------------------------')\n",
    "\n",
    "y_pred = SVRModel.predict(x_test)\n",
    "print('Predicted Value for SVRModel is : ' , y_pred[:10])"
   ]
  },
  {
   "cell_type": "code",
   "execution_count": 25,
   "id": "d5dddd88",
   "metadata": {
    "execution": {
     "iopub.execute_input": "2021-09-12T12:33:49.201353Z",
     "iopub.status.busy": "2021-09-12T12:33:49.200691Z",
     "iopub.status.idle": "2021-09-12T12:33:49.204604Z",
     "shell.execute_reply": "2021-09-12T12:33:49.204097Z",
     "shell.execute_reply.started": "2021-09-12T12:31:42.325490Z"
    },
    "papermill": {
     "duration": 0.037754,
     "end_time": "2021-09-12T12:33:49.204772",
     "exception": false,
     "start_time": "2021-09-12T12:33:49.167018",
     "status": "completed"
    },
    "tags": []
   },
   "outputs": [],
   "source": [
    "from sklearn.linear_model import LinearRegression\n"
   ]
  },
  {
   "cell_type": "code",
   "execution_count": 26,
   "id": "3adbf23a",
   "metadata": {
    "execution": {
     "iopub.execute_input": "2021-09-12T12:33:49.288353Z",
     "iopub.status.busy": "2021-09-12T12:33:49.287420Z",
     "iopub.status.idle": "2021-09-12T12:33:49.292066Z",
     "shell.execute_reply": "2021-09-12T12:33:49.291417Z",
     "shell.execute_reply.started": "2021-09-12T12:32:04.414856Z"
    },
    "papermill": {
     "duration": 0.058126,
     "end_time": "2021-09-12T12:33:49.292213",
     "exception": false,
     "start_time": "2021-09-12T12:33:49.234087",
     "status": "completed"
    },
    "tags": []
   },
   "outputs": [
    {
     "name": "stdout",
     "output_type": "stream",
     "text": [
      "Linear Regression Train Score is :  0.4306723486422098\n",
      "Linear Regression Test Score is :  0.2547311311655497\n",
      "Linear Regression Coef is :  [ 0.34356218 -0.00989832  0.29290108  0.05467896 -0.58233066 -0.01991713\n",
      " -0.02428325  0.82418618 -0.27276078 -0.09766729  0.01505984 -0.76495286]\n",
      "Linear Regression intercept is :  0.8772806990536783\n",
      "----------------------------------------------------\n",
      "Predicted Value for Linear Regression is :  [-0.05361907  0.21116599  0.54178353  0.11387212  0.18526579  0.23899416\n",
      "  0.66300788  0.07535948  0.99370742  0.42352676]\n"
     ]
    }
   ],
   "source": [
    "LinearRegressionModel = LinearRegression(fit_intercept=True, normalize=True,copy_X=True,n_jobs=-1)\n",
    "LinearRegressionModel.fit(x_train, y_train)\n",
    "\n",
    "print('Linear Regression Train Score is : ' , LinearRegressionModel.score(x_train, y_train))\n",
    "print('Linear Regression Test Score is : ' , LinearRegressionModel.score(x_test, y_test))\n",
    "print('Linear Regression Coef is : ' , LinearRegressionModel.coef_)\n",
    "print('Linear Regression intercept is : ' , LinearRegressionModel.intercept_)\n",
    "print('----------------------------------------------------')\n",
    "\n",
    "y_pred = LinearRegressionModel.predict(x_test)\n",
    "print('Predicted Value for Linear Regression is : ' , y_pred[:10])"
   ]
  },
  {
   "cell_type": "code",
   "execution_count": 27,
   "id": "a27f78d9",
   "metadata": {
    "execution": {
     "iopub.execute_input": "2021-09-12T12:33:49.357272Z",
     "iopub.status.busy": "2021-09-12T12:33:49.356164Z",
     "iopub.status.idle": "2021-09-12T12:33:49.358423Z",
     "shell.execute_reply": "2021-09-12T12:33:49.358947Z",
     "shell.execute_reply.started": "2021-09-12T12:33:14.372179Z"
    },
    "papermill": {
     "duration": 0.037576,
     "end_time": "2021-09-12T12:33:49.359124",
     "exception": false,
     "start_time": "2021-09-12T12:33:49.321548",
     "status": "completed"
    },
    "tags": []
   },
   "outputs": [],
   "source": [
    "from sklearn.metrics import  mean_squared_error\n"
   ]
  },
  {
   "cell_type": "code",
   "execution_count": 28,
   "id": "795f015d",
   "metadata": {
    "execution": {
     "iopub.execute_input": "2021-09-12T12:33:49.423543Z",
     "iopub.status.busy": "2021-09-12T12:33:49.421104Z",
     "iopub.status.idle": "2021-09-12T12:33:49.427634Z",
     "shell.execute_reply": "2021-09-12T12:33:49.426968Z",
     "shell.execute_reply.started": "2021-09-12T12:33:15.989967Z"
    },
    "papermill": {
     "duration": 0.038755,
     "end_time": "2021-09-12T12:33:49.427784",
     "exception": false,
     "start_time": "2021-09-12T12:33:49.389029",
     "status": "completed"
    },
    "tags": []
   },
   "outputs": [
    {
     "name": "stdout",
     "output_type": "stream",
     "text": [
      "Mean Squared Error Value is :  0.1656153041854334\n"
     ]
    }
   ],
   "source": [
    "MSEValue = mean_squared_error(y_test, y_pred, multioutput='uniform_average') # it can be raw_values\n",
    "print('Mean Squared Error Value is : ', MSEValue)"
   ]
  },
  {
   "cell_type": "code",
   "execution_count": null,
   "id": "11f08a6a",
   "metadata": {
    "papermill": {
     "duration": 0.029583,
     "end_time": "2021-09-12T12:33:49.486769",
     "exception": false,
     "start_time": "2021-09-12T12:33:49.457186",
     "status": "completed"
    },
    "tags": []
   },
   "outputs": [],
   "source": []
  }
 ],
 "metadata": {
  "kernelspec": {
   "display_name": "Python 3",
   "language": "python",
   "name": "python3"
  },
  "language_info": {
   "codemirror_mode": {
    "name": "ipython",
    "version": 3
   },
   "file_extension": ".py",
   "mimetype": "text/x-python",
   "name": "python",
   "nbconvert_exporter": "python",
   "pygments_lexer": "ipython3",
   "version": "3.7.10"
  },
  "papermill": {
   "default_parameters": {},
   "duration": 12.377438,
   "end_time": "2021-09-12T12:33:50.124798",
   "environment_variables": {},
   "exception": null,
   "input_path": "__notebook__.ipynb",
   "output_path": "__notebook__.ipynb",
   "parameters": {},
   "start_time": "2021-09-12T12:33:37.747360",
   "version": "2.3.3"
  }
 },
 "nbformat": 4,
 "nbformat_minor": 5
}
